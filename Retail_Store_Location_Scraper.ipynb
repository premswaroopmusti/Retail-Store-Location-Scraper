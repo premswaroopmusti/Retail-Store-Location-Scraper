{
  "nbformat": 4,
  "nbformat_minor": 0,
  "metadata": {
    "colab": {
      "provenance": [],
      "include_colab_link": true
    },
    "kernelspec": {
      "name": "python3",
      "display_name": "Python 3"
    },
    "language_info": {
      "name": "python"
    }
  },
  "cells": [
    {
      "cell_type": "markdown",
      "metadata": {
        "id": "view-in-github",
        "colab_type": "text"
      },
      "source": [
        "<a href=\"https://colab.research.google.com/github/premswaroopmusti/Retail-Store-Location-Scraper/blob/main/Retail_Store_Location_Scraper.ipynb\" target=\"_parent\"><img src=\"https://colab.research.google.com/assets/colab-badge.svg\" alt=\"Open In Colab\"/></a>"
      ]
    },
    {
      "cell_type": "code",
      "execution_count": null,
      "metadata": {
        "id": "JWMsnY5wk8Ot"
      },
      "outputs": [],
      "source": [
        "import requests as r\n",
        "from bs4 import BeautifulSoup\n",
        "import pandas as pd"
      ]
    },
    {
      "cell_type": "code",
      "source": [
        "Retail_store_list = []\n",
        "\n",
        "for i in range(1,19):\n",
        "  webpage_url = f\"https://stores.vmartretail.com/?page={i}\"\n",
        "  req = r.get(webpage_url)\n",
        "  req.text\n",
        "\n",
        "  \n",
        "  soup = BeautifulSoup(req.text,'html.parser')\n",
        "\n",
        "  stores =  soup.find_all('div', class_ = 'col-lg-4 col-md-6 p-0 my-3')\n",
        "  for i in stores:\n",
        "    store_name = i.find('a',class_ = 'col-store-name txt-color-3 txt-hover-1').text.strip()\n",
        "    store_address = i.find('span',class_ = 'store-address-info idx-info-card-str-add-info').text.strip()\n",
        "    store_timings = i.find('span',class_ = 'store-time-info idx-info-card-str-time-info').text.strip()\n",
        "    store_phone_number = i.find('a',class_ = 'txt-hover-1 txt-color-1').text.strip()\n",
        "\n",
        "    maps_link = i.find('a',href = True, class_ = 'get_direction_click btn w-100 idx-info-card-str-dir-btn txt-color-3 bdr-color-6 bg-color-4 text-uppercase btn-hover-2' )\n",
        "    Retail_store_list.append({'Store name':store_name,'Store Address': store_address, 'Store timings':store_timings, 'Store Phone Number':store_phone_number, 'Store Coordinates': maps_link['href']})"
      ],
      "metadata": {
        "id": "NZg26YjRlIac"
      },
      "execution_count": 11,
      "outputs": []
    },
    {
      "cell_type": "code",
      "source": [
        "df = pd.DataFrame(Retail_store_list)"
      ],
      "metadata": {
        "id": "cOeK0PLyVgrH"
      },
      "execution_count": 13,
      "outputs": []
    },
    {
      "cell_type": "code",
      "source": [
        "from urllib.parse import parse_qs, urlparse\n",
        "\n",
        "url = []\n",
        "\n",
        "for i in df['Store Coordinates']:\n",
        "  url.append(i)\n",
        "\n",
        "\n",
        "def remix(url):\n",
        "  lat = []\n",
        "  lon = []\n",
        "  for i in url:\n",
        "    parsed_url = urlparse(i)\n",
        "    query_params = parse_qs(parsed_url.query)\n",
        "    latitude, longitude = query_params['destination'][0].split(',')\n",
        "    lat.append(latitude)\n",
        "    lon.append(longitude)\n",
        "  return lat, lon\n",
        "\n",
        "latitudes, longitudes = remix(url)"
      ],
      "metadata": {
        "id": "Snf19p6IP3ds"
      },
      "execution_count": 16,
      "outputs": []
    },
    {
      "cell_type": "code",
      "source": [
        "df['latitude'] = latitudes\n",
        "df['longitude'] = longitudes\n",
        "\n",
        "df.to_csv('stores_with_lat_lon_new.csv', index = False)\n",
        "df = pd.read_csv(\"/content/stores_with_lat_lon_new.csv\")\n",
        "df = df.drop(['Store Coordinates'], axis=1)\n",
        "df.to_csv('final.csv', index = False)"
      ],
      "metadata": {
        "id": "vrtPaIx1UelP"
      },
      "execution_count": 20,
      "outputs": []
    }
  ]
}